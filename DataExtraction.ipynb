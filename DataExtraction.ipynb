{
 "cells": [
  {
   "cell_type": "code",
   "execution_count": 3,
   "id": "through-indicator",
   "metadata": {},
   "outputs": [],
   "source": [
    "import numpy as np\n",
    "import cv2\n",
    "from PIL import Image\n",
    "import matplotlib.pyplot as plt\n",
    "import os\n",
    "from os import listdir\n",
    "from os.path import isfile, join\n",
    "import pandas as pd"
   ]
  },
  {
   "cell_type": "code",
   "execution_count": 19,
   "id": "naughty-verse",
   "metadata": {},
   "outputs": [],
   "source": [
    "PATH = 'D:/DataSets/HandWritten Digits/extracted_images/'"
   ]
  },
  {
   "cell_type": "code",
   "execution_count": 114,
   "id": "significant-drove",
   "metadata": {},
   "outputs": [],
   "source": [
    "def load_images(folder):\n",
    "    train_data = []\n",
    "    for filename in os.listdir(folder):\n",
    "        img = cv2.imread(os.path.join(folder,filename),cv2.IMREAD_GRAYSCALE)\n",
    "        img = ~img\n",
    "        if img is not None:\n",
    "            ret,thresh=cv2.threshold(img,127,255,cv2.THRESH_BINARY)\n",
    "            contours,ret = cv2.findContours(thresh,cv2.RETR_EXTERNAL,cv2.CHAIN_APPROX_NONE)\n",
    "            cnt=sorted(contours, key=lambda ctr: cv2.boundingRect(ctr)[0])\n",
    "            w = int(28)\n",
    "            h = int(28)\n",
    "            maxi = 0\n",
    "            for c in cnt:\n",
    "                x,y,w,h = cv2.boundingRect(c)\n",
    "                maxi = max(w*h,maxi)\n",
    "                if maxi == w*h:\n",
    "                    x_max = x\n",
    "                    y_max = y\n",
    "                    w_max = w\n",
    "                    h_max = h\n",
    "            im_crop = thresh[y_max:y_max + h_max + 10, x_max:x_max + w_max + 10]\n",
    "            im_resize = cv2.resize(im_crop,(28,28))\n",
    "            im_resize=np.reshape(im_resize,(784,1))\n",
    "            train_data.append(im_resize)\n",
    "    return train_data"
   ]
  },
  {
   "cell_type": "code",
   "execution_count": 143,
   "id": "painful-knock",
   "metadata": {},
   "outputs": [],
   "source": [
    "data = []"
   ]
  },
  {
   "cell_type": "code",
   "execution_count": 144,
   "id": "national-ozone",
   "metadata": {},
   "outputs": [
    {
     "name": "stdout",
     "output_type": "stream",
     "text": [
      "33997\n"
     ]
    }
   ],
   "source": [
    "# assigning '-' to 10\n",
    "data = load_images(PATH + '-')\n",
    "for i in range(len(data)):\n",
    "    data[i] = np.append(data[i],['10'])\n",
    "print(len(data))"
   ]
  },
  {
   "cell_type": "code",
   "execution_count": 145,
   "id": "gentle-statement",
   "metadata": {},
   "outputs": [
    {
     "name": "stdout",
     "output_type": "stream",
     "text": [
      "59109\n"
     ]
    }
   ],
   "source": [
    "# assigning '+' to 11\n",
    "data1 = load_images(PATH + '+')\n",
    "for i in range(len(data1)):\n",
    "    data1[i] = np.append(data1[i],['11'])\n",
    "data = np.concatenate((data,data1))\n",
    "print(len(data))"
   ]
  },
  {
   "cell_type": "code",
   "execution_count": 146,
   "id": "renewable-glucose",
   "metadata": {},
   "outputs": [
    {
     "name": "stdout",
     "output_type": "stream",
     "text": [
      "66023\n"
     ]
    }
   ],
   "source": [
    "data1 = load_images(PATH + '0')\n",
    "for i in range(len(data1)):\n",
    "    data1[i] = np.append(data1[i],['0'])\n",
    "data = np.concatenate((data,data1))\n",
    "print(len(data))"
   ]
  },
  {
   "cell_type": "code",
   "execution_count": 147,
   "id": "textile-consideration",
   "metadata": {},
   "outputs": [
    {
     "name": "stdout",
     "output_type": "stream",
     "text": [
      "92543\n"
     ]
    }
   ],
   "source": [
    "data1 = load_images(PATH + '1')\n",
    "for i in range(len(data1)):\n",
    "    data1[i] = np.append(data1[i],['1'])\n",
    "data = np.concatenate((data,data1))\n",
    "print(len(data))"
   ]
  },
  {
   "cell_type": "code",
   "execution_count": 148,
   "id": "speaking-table",
   "metadata": {},
   "outputs": [
    {
     "name": "stdout",
     "output_type": "stream",
     "text": [
      "118684\n"
     ]
    }
   ],
   "source": [
    "data1=load_images(PATH + '2')\n",
    "for i in range(0,len(data1)):\n",
    "    data1[i]=np.append(data1[i],['2'])\n",
    "data=np.concatenate((data,data1))\n",
    "print(len(data))"
   ]
  },
  {
   "cell_type": "code",
   "execution_count": 149,
   "id": "allied-compiler",
   "metadata": {},
   "outputs": [
    {
     "name": "stdout",
     "output_type": "stream",
     "text": [
      "129593\n"
     ]
    }
   ],
   "source": [
    "data1 = load_images(PATH + '3')\n",
    "for i in range(len(data1)):\n",
    "    data1[i] = np.append(data1[i],['3'])\n",
    "data = np.concatenate((data,data1))\n",
    "print(len(data))"
   ]
  },
  {
   "cell_type": "code",
   "execution_count": 150,
   "id": "popular-midwest",
   "metadata": {},
   "outputs": [
    {
     "name": "stdout",
     "output_type": "stream",
     "text": [
      "136989\n"
     ]
    }
   ],
   "source": [
    "data1 = load_images(PATH + '4')\n",
    "for i in range(len(data1)):\n",
    "    data1[i] = np.append(data1[i],['4'])\n",
    "data = np.concatenate((data,data1))\n",
    "print(len(data))"
   ]
  },
  {
   "cell_type": "code",
   "execution_count": 153,
   "id": "mental-macintosh",
   "metadata": {},
   "outputs": [
    {
     "name": "stdout",
     "output_type": "stream",
     "text": [
      "140534\n"
     ]
    }
   ],
   "source": [
    "data1 = load_images(PATH + '5')\n",
    "for i in range(len(data1)):\n",
    "    data1[i] = np.append(data1[i],['5'])\n",
    "data = np.concatenate((data,data1))\n",
    "print(len(data))"
   ]
  },
  {
   "cell_type": "code",
   "execution_count": 154,
   "id": "recorded-filename",
   "metadata": {},
   "outputs": [
    {
     "name": "stdout",
     "output_type": "stream",
     "text": [
      "143652\n"
     ]
    }
   ],
   "source": [
    "data1 = load_images(PATH + '6')\n",
    "for i in range(len(data1)):\n",
    "    data1[i] = np.append(data1[i],['6'])\n",
    "data = np.concatenate((data,data1))\n",
    "print(len(data))"
   ]
  },
  {
   "cell_type": "code",
   "execution_count": 155,
   "id": "dimensional-defense",
   "metadata": {},
   "outputs": [
    {
     "name": "stdout",
     "output_type": "stream",
     "text": [
      "146561\n"
     ]
    }
   ],
   "source": [
    "data1 = load_images(PATH + '7')\n",
    "for i in range(len(data1)):\n",
    "    data1[i] = np.append(data1[i],['7'])\n",
    "data = np.concatenate((data,data1))\n",
    "print(len(data))"
   ]
  },
  {
   "cell_type": "code",
   "execution_count": 156,
   "id": "strange-immune",
   "metadata": {},
   "outputs": [
    {
     "name": "stdout",
     "output_type": "stream",
     "text": [
      "149629\n"
     ]
    }
   ],
   "source": [
    "data1 = load_images(PATH + '8')\n",
    "for i in range(len(data1)):\n",
    "    data1[i] = np.append(data1[i],['8'])\n",
    "data = np.concatenate((data,data1))\n",
    "print(len(data))"
   ]
  },
  {
   "cell_type": "code",
   "execution_count": 157,
   "id": "resistant-willow",
   "metadata": {},
   "outputs": [
    {
     "name": "stdout",
     "output_type": "stream",
     "text": [
      "153366\n"
     ]
    }
   ],
   "source": [
    "data1 = load_images(PATH + '9')\n",
    "for i in range(len(data1)):\n",
    "    data1[i] = np.append(data1[i],['9'])\n",
    "data = np.concatenate((data,data1))\n",
    "print(len(data))"
   ]
  },
  {
   "cell_type": "code",
   "execution_count": 158,
   "id": "mediterranean-heath",
   "metadata": {},
   "outputs": [
    {
     "name": "stdout",
     "output_type": "stream",
     "text": [
      "156617\n"
     ]
    }
   ],
   "source": [
    "#Assigning * to 12\n",
    "data1 = load_images(PATH + 'times')\n",
    "for i in range(len(data1)):\n",
    "    data1[i] = np.append(data1[i],['12'])\n",
    "data = np.concatenate((data,data1))\n",
    "print(len(data))"
   ]
  },
  {
   "cell_type": "code",
   "execution_count": 164,
   "id": "advanced-fleet",
   "metadata": {},
   "outputs": [],
   "source": [
    "df = pd.DataFrame(data,index=None)\n",
    "df.to_csv('train_final.csv',index=False)"
   ]
  },
  {
   "cell_type": "code",
   "execution_count": null,
   "id": "super-adelaide",
   "metadata": {},
   "outputs": [],
   "source": []
  }
 ],
 "metadata": {
  "kernelspec": {
   "display_name": "Python 3",
   "language": "python",
   "name": "python3"
  },
  "language_info": {
   "codemirror_mode": {
    "name": "ipython",
    "version": 3
   },
   "file_extension": ".py",
   "mimetype": "text/x-python",
   "name": "python",
   "nbconvert_exporter": "python",
   "pygments_lexer": "ipython3",
   "version": "3.7.9"
  }
 },
 "nbformat": 4,
 "nbformat_minor": 5
}
